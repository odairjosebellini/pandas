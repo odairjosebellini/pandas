{
  "nbformat": 4,
  "nbformat_minor": 0,
  "metadata": {
    "colab": {
      "name": "Untitled1.ipynb",
      "provenance": []
    },
    "kernelspec": {
      "name": "python3",
      "display_name": "Python 3"
    },
    "language_info": {
      "name": "python"
    }
  },
  "cells": [
    {
      "cell_type": "markdown",
      "source": [
        "https://github.com/tkrabel/bamboolib"
      ],
      "metadata": {
        "id": "Hj2KNLFtLsOc"
      }
    },
    {
      "cell_type": "markdown",
      "source": [
        "bamboolib demo\n",
        "How to get started\n",
        "Watch the short demo video: https://www.youtube.com/watch?v=VUkRlt4HieY\n",
        "\n",
        "Execute all cells and experiment with bamboolib yourself\n",
        "\n",
        "Interested in using bamboolib on your own data? Get started\n",
        "\n",
        "Troubleshooting\n",
        "If the ipython kernel becomes idle or you see a Connection failed popup, then please launch a new Binder notebook.\n",
        "If you have any other problem using bamboolib in this notebook, then please send us an email."
      ],
      "metadata": {
        "id": "GEUBW5JtMg8r"
      }
    },
    {
      "cell_type": "code",
      "execution_count": 1,
      "metadata": {
        "colab": {
          "base_uri": "https://localhost:8080/",
          "height": 136
        },
        "id": "V-2MFvjULhoe",
        "outputId": "9aabe452-0de4-4834-e540-3f526cb4cee0"
      },
      "outputs": [
        {
          "output_type": "error",
          "ename": "SyntaxError",
          "evalue": "ignored",
          "traceback": [
            "\u001b[0;36m  File \u001b[0;32m\"<ipython-input-1-9da086492788>\"\u001b[0;36m, line \u001b[0;32m1\u001b[0m\n\u001b[0;31m    bamboolib demo\u001b[0m\n\u001b[0m                 ^\u001b[0m\n\u001b[0;31mSyntaxError\u001b[0m\u001b[0;31m:\u001b[0m invalid syntax\n"
          ]
        }
      ],
      "source": [
        "import pandas as pd\n",
        "import bamboolib as bam\n",
        "df = pd.read_csv(\"data/titanic.csv\")"
      ]
    },
    {
      "cell_type": "code",
      "source": [
        "df"
      ],
      "metadata": {
        "colab": {
          "base_uri": "https://localhost:8080/",
          "height": 172
        },
        "id": "vwqt9kQaMp_x",
        "outputId": "30d66846-3593-4ac5-ab82-11b4894aff99"
      },
      "execution_count": 2,
      "outputs": [
        {
          "output_type": "error",
          "ename": "NameError",
          "evalue": "ignored",
          "traceback": [
            "\u001b[0;31m---------------------------------------------------------------------------\u001b[0m",
            "\u001b[0;31mNameError\u001b[0m                                 Traceback (most recent call last)",
            "\u001b[0;32m<ipython-input-2-00cf07b74dcd>\u001b[0m in \u001b[0;36m<module>\u001b[0;34m()\u001b[0m\n\u001b[0;32m----> 1\u001b[0;31m \u001b[0mdf\u001b[0m\u001b[0;34m\u001b[0m\u001b[0;34m\u001b[0m\u001b[0m\n\u001b[0m",
            "\u001b[0;31mNameError\u001b[0m: name 'df' is not defined"
          ]
        }
      ]
    }
  ]
}
